{
 "cells": [
  {
   "cell_type": "code",
   "execution_count": 1,
   "metadata": {},
   "outputs": [],
   "source": [
    "import numpy as np\n",
    "import random\n",
    "import os\n",
    "import torch\n",
    "import torch.nn as nn\n",
    "import torch.nn.functional as F\n",
    "import torch.optim as optim\n",
    "import torch.autograd as autograd\n",
    "from torch.autograd import Variable"
   ]
  },
  {
   "cell_type": "code",
   "execution_count": 2,
   "metadata": {},
   "outputs": [],
   "source": [
    "from torchsummary import summary"
   ]
  },
  {
   "cell_type": "code",
   "execution_count": 6,
   "metadata": {},
   "outputs": [],
   "source": [
    "class Actor(nn.Module):\n",
    "  \n",
    "    def __init__(self, state_dim, action_dim, max_action):\n",
    "        super(Actor, self).__init__()\n",
    "        self.max_action = max_action\n",
    "        self.conv1 = conv_block(in_channels=1, out_channels=10)\n",
    "        self.conv2 = conv_block(in_channels=10, out_channels=20)\n",
    "        self.maxpool1 = nn.MaxPool2d(kernel_size=2, stride=2)\n",
    "        self.conv3 = conv_block(in_channels=20, out_channels=30)\n",
    "        self.maxpool2 = nn.MaxPool2d(kernel_size=2, stride=2)\n",
    "        self.conv4 = nn.Conv2d(in_channels=30, out_channels=10, kernel_size=(1,1))\n",
    "        \n",
    "        self.gap = nn.AdaptiveAvgPool2d(1)\n",
    "        self.linear = nn.Linear(10, 1)\n",
    "    \n",
    "    def forward(self, x):\n",
    "        x = self.conv1(x)\n",
    "        x = self.conv2(x)\n",
    "        x = self.maxpool1(x)\n",
    "        x = self.conv3(x)\n",
    "        x = self.maxpool2(x)\n",
    "        x = self.conv4(x)\n",
    "        x = self.gap(x)\n",
    "        print(x.size())\n",
    "        print(x.squeeze().size())\n",
    "        x = self.linear(x.squeeze())\n",
    "        x = self.max_action * F.tanh(x)\n",
    "        return x\n",
    "\n"
   ]
  },
  {
   "cell_type": "code",
   "execution_count": 7,
   "metadata": {},
   "outputs": [
    {
     "ename": "NameError",
     "evalue": "name 'conv_block' is not defined",
     "output_type": "error",
     "traceback": [
      "\u001b[0;31m---------------------------------------------------------------------------\u001b[0m",
      "\u001b[0;31mNameError\u001b[0m                                 Traceback (most recent call last)",
      "\u001b[0;32m<ipython-input-7-677c557b139c>\u001b[0m in \u001b[0;36m<module>\u001b[0;34m\u001b[0m\n\u001b[0;32m----> 1\u001b[0;31m \u001b[0ma\u001b[0m\u001b[0;34m=\u001b[0m\u001b[0mActor\u001b[0m\u001b[0;34m(\u001b[0m\u001b[0;34m(\u001b[0m\u001b[0;34m(\u001b[0m\u001b[0;36m100\u001b[0m\u001b[0;34m,\u001b[0m\u001b[0;36m1\u001b[0m\u001b[0;34m,\u001b[0m\u001b[0;36m100\u001b[0m\u001b[0;34m,\u001b[0m\u001b[0;36m100\u001b[0m\u001b[0;34m)\u001b[0m\u001b[0;34m)\u001b[0m\u001b[0;34m,\u001b[0m\u001b[0;36m5\u001b[0m\u001b[0;34m,\u001b[0m\u001b[0;36m1\u001b[0m\u001b[0;34m)\u001b[0m\u001b[0;34m\u001b[0m\u001b[0;34m\u001b[0m\u001b[0m\n\u001b[0m",
      "\u001b[0;32m<ipython-input-6-0dfc20fa79b4>\u001b[0m in \u001b[0;36m__init__\u001b[0;34m(self, state_dim, action_dim, max_action)\u001b[0m\n\u001b[1;32m      4\u001b[0m         \u001b[0msuper\u001b[0m\u001b[0;34m(\u001b[0m\u001b[0mActor\u001b[0m\u001b[0;34m,\u001b[0m \u001b[0mself\u001b[0m\u001b[0;34m)\u001b[0m\u001b[0;34m.\u001b[0m\u001b[0m__init__\u001b[0m\u001b[0;34m(\u001b[0m\u001b[0;34m)\u001b[0m\u001b[0;34m\u001b[0m\u001b[0;34m\u001b[0m\u001b[0m\n\u001b[1;32m      5\u001b[0m         \u001b[0mself\u001b[0m\u001b[0;34m.\u001b[0m\u001b[0mmax_action\u001b[0m \u001b[0;34m=\u001b[0m \u001b[0mmax_action\u001b[0m\u001b[0;34m\u001b[0m\u001b[0;34m\u001b[0m\u001b[0m\n\u001b[0;32m----> 6\u001b[0;31m         \u001b[0mself\u001b[0m\u001b[0;34m.\u001b[0m\u001b[0mconv1\u001b[0m \u001b[0;34m=\u001b[0m \u001b[0mconv_block\u001b[0m\u001b[0;34m(\u001b[0m\u001b[0min_channels\u001b[0m\u001b[0;34m=\u001b[0m\u001b[0;36m1\u001b[0m\u001b[0;34m,\u001b[0m \u001b[0mout_channels\u001b[0m\u001b[0;34m=\u001b[0m\u001b[0;36m10\u001b[0m\u001b[0;34m)\u001b[0m\u001b[0;34m\u001b[0m\u001b[0;34m\u001b[0m\u001b[0m\n\u001b[0m\u001b[1;32m      7\u001b[0m         \u001b[0mself\u001b[0m\u001b[0;34m.\u001b[0m\u001b[0mconv2\u001b[0m \u001b[0;34m=\u001b[0m \u001b[0mconv_block\u001b[0m\u001b[0;34m(\u001b[0m\u001b[0min_channels\u001b[0m\u001b[0;34m=\u001b[0m\u001b[0;36m10\u001b[0m\u001b[0;34m,\u001b[0m \u001b[0mout_channels\u001b[0m\u001b[0;34m=\u001b[0m\u001b[0;36m20\u001b[0m\u001b[0;34m)\u001b[0m\u001b[0;34m\u001b[0m\u001b[0;34m\u001b[0m\u001b[0m\n\u001b[1;32m      8\u001b[0m         \u001b[0mself\u001b[0m\u001b[0;34m.\u001b[0m\u001b[0mmaxpool1\u001b[0m \u001b[0;34m=\u001b[0m \u001b[0mnn\u001b[0m\u001b[0;34m.\u001b[0m\u001b[0mMaxPool2d\u001b[0m\u001b[0;34m(\u001b[0m\u001b[0mkernel_size\u001b[0m\u001b[0;34m=\u001b[0m\u001b[0;36m2\u001b[0m\u001b[0;34m,\u001b[0m \u001b[0mstride\u001b[0m\u001b[0;34m=\u001b[0m\u001b[0;36m2\u001b[0m\u001b[0;34m)\u001b[0m\u001b[0;34m\u001b[0m\u001b[0;34m\u001b[0m\u001b[0m\n",
      "\u001b[0;31mNameError\u001b[0m: name 'conv_block' is not defined"
     ]
    }
   ],
   "source": [
    "a=Actor(((100,1,100,100)),5,1)"
   ]
  },
  {
   "cell_type": "code",
   "execution_count": 785,
   "metadata": {},
   "outputs": [
    {
     "name": "stdout",
     "output_type": "stream",
     "text": [
      "torch.Size([2, 10, 1, 1])\n",
      "torch.Size([2, 10])\n",
      "----------------------------------------------------------------\n",
      "        Layer (type)               Output Shape         Param #\n",
      "================================================================\n",
      "            Conv2d-1           [-1, 10, 98, 98]             100\n",
      "       BatchNorm2d-2           [-1, 10, 98, 98]              20\n",
      "              ReLU-3           [-1, 10, 98, 98]               0\n",
      "           Dropout-4           [-1, 10, 98, 98]               0\n",
      "        conv_block-5           [-1, 10, 98, 98]               0\n",
      "            Conv2d-6           [-1, 20, 96, 96]           1,820\n",
      "       BatchNorm2d-7           [-1, 20, 96, 96]              40\n",
      "              ReLU-8           [-1, 20, 96, 96]               0\n",
      "           Dropout-9           [-1, 20, 96, 96]               0\n",
      "       conv_block-10           [-1, 20, 96, 96]               0\n",
      "        MaxPool2d-11           [-1, 20, 48, 48]               0\n",
      "           Conv2d-12           [-1, 30, 46, 46]           5,430\n",
      "      BatchNorm2d-13           [-1, 30, 46, 46]              60\n",
      "             ReLU-14           [-1, 30, 46, 46]               0\n",
      "          Dropout-15           [-1, 30, 46, 46]               0\n",
      "       conv_block-16           [-1, 30, 46, 46]               0\n",
      "        MaxPool2d-17           [-1, 30, 23, 23]               0\n",
      "           Conv2d-18           [-1, 10, 23, 23]             310\n",
      "AdaptiveAvgPool2d-19             [-1, 10, 1, 1]               0\n",
      "           Linear-20                    [-1, 1]              11\n",
      "================================================================\n",
      "Total params: 7,791\n",
      "Trainable params: 7,791\n",
      "Non-trainable params: 0\n",
      "----------------------------------------------------------------\n",
      "Input size (MB): 0.04\n",
      "Forward/backward pass size (MB): 13.63\n",
      "Params size (MB): 0.03\n",
      "Estimated Total Size (MB): 13.70\n",
      "----------------------------------------------------------------\n"
     ]
    },
    {
     "name": "stderr",
     "output_type": "stream",
     "text": [
      "/home/ravil/miniconda3/envs/pytorch/lib/python3.7/site-packages/torch/nn/functional.py:1374: UserWarning: nn.functional.tanh is deprecated. Use torch.tanh instead.\n",
      "  warnings.warn(\"nn.functional.tanh is deprecated. Use torch.tanh instead.\")\n"
     ]
    }
   ],
   "source": [
    "summary(Actor(((100,1,100,100)),5,1),(1,100,100))"
   ]
  },
  {
   "cell_type": "code",
   "execution_count": 775,
   "metadata": {},
   "outputs": [],
   "source": [
    "class Critic(nn.Module):\n",
    "    def __init__(self, state_dim, action_dim):\n",
    "        super(Critic, self).__init__()\n",
    "\n",
    "        # critic 1\n",
    "        self.conv1_a = conv_block(in_channels=1, out_channels=10)\n",
    "        self.conv2_a = conv_block(in_channels=10, out_channels=20)\n",
    "        self.maxpool1_a = nn.MaxPool2d(kernel_size=2, stride=2)\n",
    "        self.conv3_a = conv_block(in_channels=20, out_channels=30)\n",
    "        self.maxpool2_a = nn.MaxPool2d(kernel_size=2, stride=2)\n",
    "        self.conv4_a = nn.Conv2d(in_channels=30, out_channels=10, kernel_size=(1, 1))\n",
    "        self.gap_a = nn.AvgPool2d(10)\n",
    "        self.linear1_a = nn.Linear(10 + action_dim, 30)\n",
    "        self.linear2_a = nn.Linear(30, 1)\n",
    "\n",
    "        # critic 2\n",
    "        self.conv1_b = conv_block(in_channels=1, out_channels=10)\n",
    "        self.conv2_b = conv_block(in_channels=10, out_channels=20)\n",
    "        self.maxpool1_b = nn.MaxPool2d(kernel_size=2, stride=2)\n",
    "        self.conv3_b = conv_block(in_channels=20, out_channels=30)\n",
    "        self.maxpool2_b = nn.MaxPool2d(kernel_size=2, stride=2)\n",
    "        self.conv4_b = nn.Conv2d(in_channels=30, out_channels=10, kernel_size=(1, 1))\n",
    "        self.gap_b = nn.AvgPool2d(13)\n",
    "        self.linear1_b = nn.Linear(10 + action_dim, 30)\n",
    "        self.linear2_b = nn.Linear(30, 1)\n",
    "\n",
    "    def forward(self, inp):\n",
    "        x = self.conv1_a(inp)\n",
    "        x = self.conv2_a(x)\n",
    "        x = self.maxpool1_a(x)\n",
    "        x = self.conv3_a(x)\n",
    "        x = self.maxpool2_a(x)\n",
    "        x = self.conv4_a(x)\n",
    "        x = self.gap_a(x)\n",
    "        x = x.squeeze()\n",
    "        x = torch.cat([x, action], 1)\n",
    "        x = self.linear1_a(x)\n",
    "        x = self.linear1_b(x)\n",
    "\n",
    "        y = self.conv1_b(inp)\n",
    "        y = self.conv2_b(y)\n",
    "        y = self.maxpool1_b(y)\n",
    "        y = self.conv3_b(y)\n",
    "        y = self.maxpool2_b(y)\n",
    "        y = self.conv4_b(y)\n",
    "        y = self.gap_b(y)\n",
    "        y = y.squeeze()\n",
    "        y = torch.cat([y, action], 1)\n",
    "        y = self.linear1_b(y)\n",
    "        y = self.linear1_b(y)\n",
    "\n",
    "        return x, y"
   ]
  },
  {
   "cell_type": "code",
   "execution_count": null,
   "metadata": {},
   "outputs": [],
   "source": []
  },
  {
   "cell_type": "code",
   "execution_count": 8,
   "metadata": {},
   "outputs": [],
   "source": [
    "\n",
    "\n",
    "class ConvBlock(nn.Module):\n",
    "    def __init__(\n",
    "        self, in_channels, out_channels, kernel_size=(3, 3), dropout=0.1, **kwargs\n",
    "    ):\n",
    "        super(ConvBlock, self).__init__()\n",
    "        self.convblock = nn.Sequential(\n",
    "            nn.Conv2d(\n",
    "                in_channels=in_channels,\n",
    "                out_channels=out_channels,\n",
    "                kernel_size=kernel_size,\n",
    "                **kwargs,\n",
    "            ),\n",
    "            nn.BatchNorm2d(out_channels),\n",
    "            nn.ReLU(),\n",
    "            nn.Dropout(p=dropout),\n",
    "        )\n",
    "\n",
    "    def forward(self, x):\n",
    "        return self.convblock(x)\n"
   ]
  },
  {
   "cell_type": "code",
   "execution_count": 767,
   "metadata": {},
   "outputs": [
    {
     "name": "stdout",
     "output_type": "stream",
     "text": [
      "torch.Size([2, 10, 1, 1])\n",
      "torch.Size([2, 10])\n",
      "----------------------------------------------------------------\n",
      "        Layer (type)               Output Shape         Param #\n",
      "================================================================\n",
      "            Conv2d-1           [-1, 10, 58, 58]             100\n",
      "       BatchNorm2d-2           [-1, 10, 58, 58]              20\n",
      "              ReLU-3           [-1, 10, 58, 58]               0\n",
      "           Dropout-4           [-1, 10, 58, 58]               0\n",
      "        conv_block-5           [-1, 10, 58, 58]               0\n",
      "            Conv2d-6           [-1, 20, 56, 56]           1,820\n",
      "       BatchNorm2d-7           [-1, 20, 56, 56]              40\n",
      "              ReLU-8           [-1, 20, 56, 56]               0\n",
      "           Dropout-9           [-1, 20, 56, 56]               0\n",
      "       conv_block-10           [-1, 20, 56, 56]               0\n",
      "        MaxPool2d-11           [-1, 20, 28, 28]               0\n",
      "           Conv2d-12           [-1, 30, 26, 26]           5,430\n",
      "      BatchNorm2d-13           [-1, 30, 26, 26]              60\n",
      "             ReLU-14           [-1, 30, 26, 26]               0\n",
      "          Dropout-15           [-1, 30, 26, 26]               0\n",
      "       conv_block-16           [-1, 30, 26, 26]               0\n",
      "        MaxPool2d-17           [-1, 30, 13, 13]               0\n",
      "           Conv2d-18           [-1, 10, 13, 13]             310\n",
      "        AvgPool2d-19             [-1, 10, 1, 1]               0\n",
      "           Linear-20                    [-1, 1]              11\n",
      "================================================================\n",
      "Total params: 7,791\n",
      "Trainable params: 7,791\n",
      "Non-trainable params: 0\n",
      "----------------------------------------------------------------\n",
      "Input size (MB): 0.01\n",
      "Forward/backward pass size (MB): 4.62\n",
      "Params size (MB): 0.03\n",
      "Estimated Total Size (MB): 4.66\n",
      "----------------------------------------------------------------\n"
     ]
    }
   ],
   "source": [
    "summary(Actor(((100,1,60,60)),5,1),(1,60,60))"
   ]
  },
  {
   "cell_type": "code",
   "execution_count": 139,
   "metadata": {},
   "outputs": [
    {
     "ename": "NameError",
     "evalue": "name 'action' is not defined",
     "output_type": "error",
     "traceback": [
      "\u001b[0;31m---------------------------------------------------------------------------\u001b[0m",
      "\u001b[0;31mNameError\u001b[0m                                 Traceback (most recent call last)",
      "\u001b[0;32m<ipython-input-139-5bbcbd7e8d37>\u001b[0m in \u001b[0;36m<module>\u001b[0;34m\u001b[0m\n\u001b[0;32m----> 1\u001b[0;31m \u001b[0msummary\u001b[0m\u001b[0;34m(\u001b[0m\u001b[0mCritic\u001b[0m\u001b[0;34m(\u001b[0m\u001b[0;34m(\u001b[0m\u001b[0;34m(\u001b[0m\u001b[0;36m1\u001b[0m\u001b[0;34m,\u001b[0m\u001b[0;36m60\u001b[0m\u001b[0;34m,\u001b[0m\u001b[0;36m60\u001b[0m\u001b[0;34m)\u001b[0m\u001b[0;34m)\u001b[0m\u001b[0;34m,\u001b[0m\u001b[0;36m1\u001b[0m\u001b[0;34m)\u001b[0m\u001b[0;34m,\u001b[0m\u001b[0;34m(\u001b[0m\u001b[0;36m1\u001b[0m\u001b[0;34m,\u001b[0m\u001b[0;36m60\u001b[0m\u001b[0;34m,\u001b[0m\u001b[0;36m60\u001b[0m\u001b[0;34m)\u001b[0m\u001b[0;34m)\u001b[0m\u001b[0;34m\u001b[0m\u001b[0;34m\u001b[0m\u001b[0m\n\u001b[0m",
      "\u001b[0;32m~/miniconda3/envs/pytorch/lib/python3.7/site-packages/torchsummary/torchsummary.py\u001b[0m in \u001b[0;36msummary\u001b[0;34m(model, input_size, batch_size, device)\u001b[0m\n\u001b[1;32m     70\u001b[0m     \u001b[0;31m# make a forward pass\u001b[0m\u001b[0;34m\u001b[0m\u001b[0;34m\u001b[0m\u001b[0;34m\u001b[0m\u001b[0m\n\u001b[1;32m     71\u001b[0m     \u001b[0;31m# print(x.shape)\u001b[0m\u001b[0;34m\u001b[0m\u001b[0;34m\u001b[0m\u001b[0;34m\u001b[0m\u001b[0m\n\u001b[0;32m---> 72\u001b[0;31m     \u001b[0mmodel\u001b[0m\u001b[0;34m(\u001b[0m\u001b[0;34m*\u001b[0m\u001b[0mx\u001b[0m\u001b[0;34m)\u001b[0m\u001b[0;34m\u001b[0m\u001b[0;34m\u001b[0m\u001b[0m\n\u001b[0m\u001b[1;32m     73\u001b[0m \u001b[0;34m\u001b[0m\u001b[0m\n\u001b[1;32m     74\u001b[0m     \u001b[0;31m# remove these hooks\u001b[0m\u001b[0;34m\u001b[0m\u001b[0;34m\u001b[0m\u001b[0;34m\u001b[0m\u001b[0m\n",
      "\u001b[0;32m~/miniconda3/envs/pytorch/lib/python3.7/site-packages/torch/nn/modules/module.py\u001b[0m in \u001b[0;36m__call__\u001b[0;34m(self, *input, **kwargs)\u001b[0m\n\u001b[1;32m    491\u001b[0m             \u001b[0mresult\u001b[0m \u001b[0;34m=\u001b[0m \u001b[0mself\u001b[0m\u001b[0;34m.\u001b[0m\u001b[0m_slow_forward\u001b[0m\u001b[0;34m(\u001b[0m\u001b[0;34m*\u001b[0m\u001b[0minput\u001b[0m\u001b[0;34m,\u001b[0m \u001b[0;34m**\u001b[0m\u001b[0mkwargs\u001b[0m\u001b[0;34m)\u001b[0m\u001b[0;34m\u001b[0m\u001b[0;34m\u001b[0m\u001b[0m\n\u001b[1;32m    492\u001b[0m         \u001b[0;32melse\u001b[0m\u001b[0;34m:\u001b[0m\u001b[0;34m\u001b[0m\u001b[0;34m\u001b[0m\u001b[0m\n\u001b[0;32m--> 493\u001b[0;31m             \u001b[0mresult\u001b[0m \u001b[0;34m=\u001b[0m \u001b[0mself\u001b[0m\u001b[0;34m.\u001b[0m\u001b[0mforward\u001b[0m\u001b[0;34m(\u001b[0m\u001b[0;34m*\u001b[0m\u001b[0minput\u001b[0m\u001b[0;34m,\u001b[0m \u001b[0;34m**\u001b[0m\u001b[0mkwargs\u001b[0m\u001b[0;34m)\u001b[0m\u001b[0;34m\u001b[0m\u001b[0;34m\u001b[0m\u001b[0m\n\u001b[0m\u001b[1;32m    494\u001b[0m         \u001b[0;32mfor\u001b[0m \u001b[0mhook\u001b[0m \u001b[0;32min\u001b[0m \u001b[0mself\u001b[0m\u001b[0;34m.\u001b[0m\u001b[0m_forward_hooks\u001b[0m\u001b[0;34m.\u001b[0m\u001b[0mvalues\u001b[0m\u001b[0;34m(\u001b[0m\u001b[0;34m)\u001b[0m\u001b[0;34m:\u001b[0m\u001b[0;34m\u001b[0m\u001b[0;34m\u001b[0m\u001b[0m\n\u001b[1;32m    495\u001b[0m             \u001b[0mhook_result\u001b[0m \u001b[0;34m=\u001b[0m \u001b[0mhook\u001b[0m\u001b[0;34m(\u001b[0m\u001b[0mself\u001b[0m\u001b[0;34m,\u001b[0m \u001b[0minput\u001b[0m\u001b[0;34m,\u001b[0m \u001b[0mresult\u001b[0m\u001b[0;34m)\u001b[0m\u001b[0;34m\u001b[0m\u001b[0;34m\u001b[0m\u001b[0m\n",
      "\u001b[0;32m<ipython-input-133-5412b8cc5ce1>\u001b[0m in \u001b[0;36mforward\u001b[0;34m(self, inp)\u001b[0m\n\u001b[1;32m     34\u001b[0m         \u001b[0mx\u001b[0m \u001b[0;34m=\u001b[0m \u001b[0mself\u001b[0m\u001b[0;34m.\u001b[0m\u001b[0mgap_a\u001b[0m\u001b[0;34m(\u001b[0m\u001b[0mx\u001b[0m\u001b[0;34m)\u001b[0m\u001b[0;34m\u001b[0m\u001b[0;34m\u001b[0m\u001b[0m\n\u001b[1;32m     35\u001b[0m         \u001b[0mx\u001b[0m \u001b[0;34m=\u001b[0m \u001b[0mx\u001b[0m\u001b[0;34m.\u001b[0m\u001b[0msqueeze\u001b[0m\u001b[0;34m(\u001b[0m\u001b[0;34m)\u001b[0m\u001b[0;34m\u001b[0m\u001b[0;34m\u001b[0m\u001b[0m\n\u001b[0;32m---> 36\u001b[0;31m         \u001b[0mx\u001b[0m \u001b[0;34m=\u001b[0m \u001b[0mtorch\u001b[0m\u001b[0;34m.\u001b[0m\u001b[0mcat\u001b[0m\u001b[0;34m(\u001b[0m\u001b[0;34m[\u001b[0m\u001b[0mx\u001b[0m\u001b[0;34m,\u001b[0m \u001b[0maction\u001b[0m\u001b[0;34m]\u001b[0m\u001b[0;34m,\u001b[0m \u001b[0;36m1\u001b[0m\u001b[0;34m)\u001b[0m\u001b[0;34m\u001b[0m\u001b[0;34m\u001b[0m\u001b[0m\n\u001b[0m\u001b[1;32m     37\u001b[0m         \u001b[0mx\u001b[0m \u001b[0;34m=\u001b[0m \u001b[0mself\u001b[0m\u001b[0;34m.\u001b[0m\u001b[0mlinear1_a\u001b[0m\u001b[0;34m(\u001b[0m\u001b[0mx\u001b[0m\u001b[0;34m)\u001b[0m\u001b[0;34m\u001b[0m\u001b[0;34m\u001b[0m\u001b[0m\n\u001b[1;32m     38\u001b[0m         \u001b[0mx\u001b[0m \u001b[0;34m=\u001b[0m \u001b[0mself\u001b[0m\u001b[0;34m.\u001b[0m\u001b[0mlinear1_b\u001b[0m\u001b[0;34m(\u001b[0m\u001b[0mx\u001b[0m\u001b[0;34m)\u001b[0m\u001b[0;34m\u001b[0m\u001b[0;34m\u001b[0m\u001b[0m\n",
      "\u001b[0;31mNameError\u001b[0m: name 'action' is not defined"
     ]
    }
   ],
   "source": [
    "summary(Critic(((1,60,60)),1),(1,60,60))"
   ]
  },
  {
   "cell_type": "code",
   "execution_count": null,
   "metadata": {},
   "outputs": [],
   "source": []
  },
  {
   "cell_type": "code",
   "execution_count": 126,
   "metadata": {},
   "outputs": [],
   "source": [
    "class Actor(nn.Module):\n",
    "    def __init__(self, image_size, max_action):\n",
    "        super(Actor, self).__init__()\n",
    "\n",
    "        _, self.height, self.width = image_size\n",
    "        self.max_action = max_action\n",
    "        # self.set_dimensions((self.height,self.width))\n",
    "\n",
    "        self.conv1 = conv_block(in_channels=3, out_channels=10)\n",
    "\n",
    "        # self.set_dimensions((self.height//2,self.width//2))\n",
    "\n",
    "        self.conv_s1 = conv_block(in_channels=10, out_channels=24, stride=2)\n",
    "\n",
    "        self.conv2 = conv_block(in_channels=24, out_channels=16)\n",
    "\n",
    "        # self.set_dimensions((self.height//2,self.width//2))\n",
    "\n",
    "        self.conv_s2 = conv_block(in_channels=16, out_channels=24, stride=2)\n",
    "\n",
    "        self.conv3 = conv_block(in_channels=24, out_channels=16, dropout=0.0)\n",
    "\n",
    "        self.gap = nn.AvgPool2d(self.height)\n",
    "        self.linear = nn.Linear(16, 1)\n",
    "\n",
    "    def set_dimensions(self, output_dim):\n",
    "        self.p_w, self.p_h = (1, 1)\n",
    "        self.height, self.width = output_dim\n",
    "\n",
    "    def forward(self, x):\n",
    "        print(x.size())\n",
    "        x = self.conv1(x)\n",
    "        x = self.conv_s1(x)\n",
    "\n",
    "        x = self.conv2(x)\n",
    "\n",
    "        x = self.conv_s2(x)\n",
    "\n",
    "        x = self.conv3(x)\n",
    "        print(x.size())\n",
    "\n",
    "        x = self.gap(x)\n",
    "        print(x.size())\n",
    "        x = self.linear(x.squeeze())\n",
    "        print(x.size())\n",
    "\n",
    "        return self.max_action * F.tanh(x)"
   ]
  },
  {
   "cell_type": "code",
   "execution_count": 130,
   "metadata": {},
   "outputs": [
    {
     "name": "stdout",
     "output_type": "stream",
     "text": [
      "torch.Size([2, 3, 60, 60])\n",
      "torch.Size([2, 16, 10, 10])\n",
      "torch.Size([2, 16, 1, 1])\n",
      "torch.Size([2, 1])\n",
      "----------------------------------------------------------------\n",
      "        Layer (type)               Output Shape         Param #\n",
      "================================================================\n",
      "            Conv2d-1           [-1, 10, 58, 58]             280\n",
      "       BatchNorm2d-2           [-1, 10, 58, 58]              20\n",
      "              ReLU-3           [-1, 10, 58, 58]               0\n",
      "           Dropout-4           [-1, 10, 58, 58]               0\n",
      "        conv_block-5           [-1, 10, 58, 58]               0\n",
      "            Conv2d-6           [-1, 24, 28, 28]           2,184\n",
      "       BatchNorm2d-7           [-1, 24, 28, 28]              48\n",
      "              ReLU-8           [-1, 24, 28, 28]               0\n",
      "           Dropout-9           [-1, 24, 28, 28]               0\n",
      "       conv_block-10           [-1, 24, 28, 28]               0\n",
      "           Conv2d-11           [-1, 16, 26, 26]           3,472\n",
      "      BatchNorm2d-12           [-1, 16, 26, 26]              32\n",
      "             ReLU-13           [-1, 16, 26, 26]               0\n",
      "          Dropout-14           [-1, 16, 26, 26]               0\n",
      "       conv_block-15           [-1, 16, 26, 26]               0\n",
      "           Conv2d-16           [-1, 24, 12, 12]           3,480\n",
      "      BatchNorm2d-17           [-1, 24, 12, 12]              48\n",
      "             ReLU-18           [-1, 24, 12, 12]               0\n",
      "          Dropout-19           [-1, 24, 12, 12]               0\n",
      "       conv_block-20           [-1, 24, 12, 12]               0\n",
      "           Conv2d-21           [-1, 16, 10, 10]           3,472\n",
      "      BatchNorm2d-22           [-1, 16, 10, 10]              32\n",
      "             ReLU-23           [-1, 16, 10, 10]               0\n",
      "          Dropout-24           [-1, 16, 10, 10]               0\n",
      "       conv_block-25           [-1, 16, 10, 10]               0\n",
      "        AvgPool2d-26             [-1, 16, 1, 1]               0\n",
      "           Linear-27                    [-1, 1]              17\n",
      "================================================================\n",
      "Total params: 13,085\n",
      "Trainable params: 13,085\n",
      "Non-trainable params: 0\n",
      "----------------------------------------------------------------\n",
      "Input size (MB): 0.04\n",
      "Forward/backward pass size (MB): 2.61\n",
      "Params size (MB): 0.05\n",
      "Estimated Total Size (MB): 2.70\n",
      "----------------------------------------------------------------\n"
     ]
    }
   ],
   "source": [
    "summary(Actor(((3,60,60)),5),(3,60,60))"
   ]
  },
  {
   "cell_type": "code",
   "execution_count": null,
   "metadata": {},
   "outputs": [],
   "source": []
  },
  {
   "cell_type": "code",
   "execution_count": null,
   "metadata": {},
   "outputs": [],
   "source": []
  },
  {
   "cell_type": "code",
   "execution_count": null,
   "metadata": {},
   "outputs": [],
   "source": []
  },
  {
   "cell_type": "code",
   "execution_count": 143,
   "metadata": {},
   "outputs": [],
   "source": [
    "from PIL import Image as PILImage"
   ]
  },
  {
   "cell_type": "code",
   "execution_count": 401,
   "metadata": {},
   "outputs": [],
   "source": [
    "arrow.thumbnail((20,10),PILImage.ANTIALIAS)"
   ]
  },
  {
   "cell_type": "code",
   "execution_count": 265,
   "metadata": {},
   "outputs": [],
   "source": [
    "arrow.save(\"arrow_resized.png\")"
   ]
  },
  {
   "cell_type": "code",
   "execution_count": 431,
   "metadata": {},
   "outputs": [],
   "source": [
    "arrow = PILImage.open(\"./images/arrow.png\")"
   ]
  },
  {
   "cell_type": "code",
   "execution_count": 432,
   "metadata": {},
   "outputs": [],
   "source": [
    "# arrow = np.array(arrow)"
   ]
  },
  {
   "cell_type": "code",
   "execution_count": 435,
   "metadata": {},
   "outputs": [
    {
     "data": {
      "text/plain": [
       "(225, 225)"
      ]
     },
     "execution_count": 435,
     "metadata": {},
     "output_type": "execute_result"
    }
   ],
   "source": [
    "arrow.size"
   ]
  },
  {
   "cell_type": "code",
   "execution_count": null,
   "metadata": {},
   "outputs": [],
   "source": []
  },
  {
   "cell_type": "code",
   "execution_count": 436,
   "metadata": {},
   "outputs": [
    {
     "data": {
      "text/plain": [
       "array([0, 0, 0, 0], dtype=uint8)"
      ]
     },
     "execution_count": 436,
     "metadata": {},
     "output_type": "execute_result"
    }
   ],
   "source": [
    "np.array(arrow)[3,4]"
   ]
  },
  {
   "cell_type": "code",
   "execution_count": null,
   "metadata": {},
   "outputs": [],
   "source": []
  },
  {
   "cell_type": "code",
   "execution_count": 573,
   "metadata": {},
   "outputs": [],
   "source": [
    "mask = PILImage.open(\"./images/mask.png\").convert(\"L\")"
   ]
  },
  {
   "cell_type": "code",
   "execution_count": 574,
   "metadata": {},
   "outputs": [
    {
     "data": {
      "text/plain": [
       "(1429, 660)"
      ]
     },
     "execution_count": 574,
     "metadata": {},
     "output_type": "execute_result"
    }
   ],
   "source": [
    "np.array(mask).shape"
   ]
  },
  {
   "cell_type": "code",
   "execution_count": 575,
   "metadata": {},
   "outputs": [],
   "source": [
    "rotated = arrow.rotate(45)"
   ]
  },
  {
   "cell_type": "code",
   "execution_count": 576,
   "metadata": {},
   "outputs": [
    {
     "data": {
      "image/png": "[encoded data removed]",
      "text/plain": [
       "<PIL.Image.Image image mode=RGBA size=225x225 at 0x7F4430311630>"
      ]
     },
     "execution_count": 576,
     "metadata": {},
     "output_type": "execute_result"
    }
   ],
   "source": [
    "rotated"
   ]
  },
  {
   "cell_type": "code",
   "execution_count": 447,
   "metadata": {},
   "outputs": [],
   "source": [
    "mask = np.array(mask)"
   ]
  },
  {
   "cell_type": "code",
   "execution_count": 448,
   "metadata": {},
   "outputs": [],
   "source": [
    "x,y=715,330"
   ]
  },
  {
   "cell_type": "code",
   "execution_count": 449,
   "metadata": {},
   "outputs": [],
   "source": [
    "mask_crop = mask[x-50:x+50,y-10:y+90]"
   ]
  },
  {
   "cell_type": "code",
   "execution_count": 450,
   "metadata": {},
   "outputs": [],
   "source": [
    "mask_crop=PILImage.fromarray(mask_crop)"
   ]
  },
  {
   "cell_type": "code",
   "execution_count": 454,
   "metadata": {},
   "outputs": [],
   "source": [
    "final1 = PILImage.new(\"RGB\", mask_crop.size)\n",
    "final1.paste(mask_crop, (0,0), mask_crop)\n",
    "final1.paste(rotated, (100,100), rotated)"
   ]
  },
  {
   "cell_type": "code",
   "execution_count": 455,
   "metadata": {},
   "outputs": [
    {
     "data": {
      "image/png": "[encoded data removed]",
      "text/plain": [
       "<PIL.Image.Image image mode=L size=100x100 at 0x7F4423FC76D8>"
      ]
     },
     "execution_count": 455,
     "metadata": {},
     "output_type": "execute_result"
    }
   ],
   "source": [
    "mask_crop"
   ]
  },
  {
   "cell_type": "code",
   "execution_count": 558,
   "metadata": {},
   "outputs": [
    {
     "data": {
      "image/png": "[encoded data removed]",
      "text/plain": [
       "<PIL.Image.Image image mode=RGB size=100x100 at 0x7F4423F8D860>"
      ]
     },
     "execution_count": 558,
     "metadata": {},
     "output_type": "execute_result"
    }
   ],
   "source": [
    "final1"
   ]
  },
  {
   "cell_type": "code",
   "execution_count": null,
   "metadata": {},
   "outputs": [],
   "source": []
  },
  {
   "cell_type": "code",
   "execution_count": 749,
   "metadata": {},
   "outputs": [],
   "source": [
    "def crop_image(x,y):\n",
    "    mask = PILImage.open(\"./images/mask.png\").convert(\"RGB\")\n",
    "    print(mask.size)\n",
    "    arrow = PILImage.open(\"./images/arrow.png\").convert(\"RGBA\")\n",
    "    arrow = arrow.resize((40,20))\n",
    "    print(arrow.size)\n",
    "    rotated = arrow.rotate(90)\n",
    "    mask.paste(rotated,(int(x),int(y)),rotated)\n",
    "    cropped_mask = mask.crop((x-30,y-100,x+170,y+100))\n",
    "    return cropped_mask\n",
    "#     rotated.show()\n",
    "#     mask_crop = np.array(mask)[x-50:x+50,y-10:y+90]\n",
    "#     print(mask_crop.shape)\n",
    "#     mask_crop = PILImage.fromarray(mask_crop,\"RGBA\")\n",
    "#     superimpose = PILImage.new(\"RGB\", (100,100))\n",
    "#     superimpose.show()\n",
    "#     superimpose.paste(mask_crop, (0,0), mask_crop)\n",
    "#     superimpose.paste(rotated, (x,y), rotated)\n",
    "\n",
    "#     print()\n",
    "#     mask_crop.paste(rotated,(0,0),rotated)\n",
    "#     mask_crop.show()\n",
    "#     superimpose.show()\n",
    "#     superimpose = superimpose.convert(\"RGB\")\n",
    "#     superimpose.show()"
   ]
  },
  {
   "cell_type": "code",
   "execution_count": 750,
   "metadata": {},
   "outputs": [
    {
     "data": {
      "text/plain": [
       "(660, 1429)"
      ]
     },
     "execution_count": 750,
     "metadata": {},
     "output_type": "execute_result"
    }
   ],
   "source": [
    "mask.size"
   ]
  },
  {
   "cell_type": "code",
   "execution_count": 752,
   "metadata": {},
   "outputs": [
    {
     "name": "stdout",
     "output_type": "stream",
     "text": [
      "(660, 1429)\n",
      "(40, 20)\n"
     ]
    }
   ],
   "source": [
    "x=crop_image(600,500)"
   ]
  },
  {
   "cell_type": "code",
   "execution_count": 754,
   "metadata": {},
   "outputs": [],
   "source": [
    "# np.array(x).shape"
   ]
  },
  {
   "cell_type": "code",
   "execution_count": 747,
   "metadata": {},
   "outputs": [
    {
     "name": "stdout",
     "output_type": "stream",
     "text": [
      "(660, 1429)\n",
      "(40, 20)\n"
     ]
    },
    {
     "data": {
      "image/png": "[encoded data removed]",
      "text/plain": [
       "<PIL.Image.Image image mode=RGB size=200x200 at 0x7F44232606A0>"
      ]
     },
     "execution_count": 747,
     "metadata": {},
     "output_type": "execute_result"
    }
   ],
   "source": [
    "crop_image(660/2,1429/2)"
   ]
  },
  {
   "cell_type": "code",
   "execution_count": 708,
   "metadata": {},
   "outputs": [],
   "source": [
    "x = np.array(img)"
   ]
  },
  {
   "cell_type": "code",
   "execution_count": 162,
   "metadata": {},
   "outputs": [
    {
     "data": {
      "text/plain": [
       "(1429, 660)"
      ]
     },
     "execution_count": 162,
     "metadata": {},
     "output_type": "execute_result"
    }
   ],
   "source": [
    "x.shape"
   ]
  },
  {
   "cell_type": "code",
   "execution_count": 172,
   "metadata": {},
   "outputs": [],
   "source": [
    "y = x.reshape(1429,660,1)"
   ]
  },
  {
   "cell_type": "code",
   "execution_count": 173,
   "metadata": {},
   "outputs": [
    {
     "data": {
      "text/plain": [
       "(1429, 660, 1)"
      ]
     },
     "execution_count": 173,
     "metadata": {},
     "output_type": "execute_result"
    }
   ],
   "source": [
    "y.shape"
   ]
  },
  {
   "cell_type": "code",
   "execution_count": 718,
   "metadata": {},
   "outputs": [],
   "source": [
    "a=10"
   ]
  },
  {
   "cell_type": "code",
   "execution_count": 728,
   "metadata": {},
   "outputs": [],
   "source": [
    "def aa():\n",
    "    print(a)\n",
    "    b=a\n",
    "    b=20\n",
    "    print(b)\n"
   ]
  },
  {
   "cell_type": "code",
   "execution_count": 729,
   "metadata": {},
   "outputs": [
    {
     "data": {
      "text/plain": [
       "10"
      ]
     },
     "execution_count": 729,
     "metadata": {},
     "output_type": "execute_result"
    }
   ],
   "source": [
    "a"
   ]
  },
  {
   "cell_type": "code",
   "execution_count": 730,
   "metadata": {},
   "outputs": [
    {
     "name": "stdout",
     "output_type": "stream",
     "text": [
      "10\n",
      "20\n"
     ]
    }
   ],
   "source": [
    "aa()"
   ]
  },
  {
   "cell_type": "code",
   "execution_count": 731,
   "metadata": {},
   "outputs": [
    {
     "data": {
      "text/plain": [
       "10"
      ]
     },
     "execution_count": 731,
     "metadata": {},
     "output_type": "execute_result"
    }
   ],
   "source": [
    "a"
   ]
  },
  {
   "cell_type": "code",
   "execution_count": 734,
   "metadata": {},
   "outputs": [],
   "source": [
    "m1=mask.copy()"
   ]
  },
  {
   "cell_type": "code",
   "execution_count": null,
   "metadata": {},
   "outputs": [],
   "source": []
  },
  {
   "cell_type": "code",
   "execution_count": 755,
   "metadata": {},
   "outputs": [],
   "source": [
    "a=1"
   ]
  },
  {
   "cell_type": "code",
   "execution_count": 756,
   "metadata": {},
   "outputs": [],
   "source": [
    "a+=-1"
   ]
  },
  {
   "cell_type": "code",
   "execution_count": 757,
   "metadata": {},
   "outputs": [
    {
     "data": {
      "text/plain": [
       "0"
      ]
     },
     "execution_count": 757,
     "metadata": {},
     "output_type": "execute_result"
    }
   ],
   "source": [
    "a"
   ]
  },
  {
   "cell_type": "code",
   "execution_count": 759,
   "metadata": {},
   "outputs": [],
   "source": [
    "a=np.array(mask)"
   ]
  },
  {
   "cell_type": "code",
   "execution_count": null,
   "metadata": {},
   "outputs": [],
   "source": []
  },
  {
   "cell_type": "code",
   "execution_count": null,
   "metadata": {},
   "outputs": [],
   "source": []
  }
 ],
 "metadata": {
  "kernelspec": {
   "display_name": "pytorch",
   "language": "python",
   "name": "pytorch"
  },
  "language_info": {
   "codemirror_mode": {
    "name": "ipython",
    "version": 3
   },
   "file_extension": ".py",
   "mimetype": "text/x-python",
   "name": "python",
   "nbconvert_exporter": "python",
   "pygments_lexer": "ipython3",
   "version": "3.7.3"
  }
 },
 "nbformat": 4,
 "nbformat_minor": 2
}
